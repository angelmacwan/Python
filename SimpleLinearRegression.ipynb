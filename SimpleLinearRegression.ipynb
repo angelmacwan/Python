{
 "cells": [
  {
   "cell_type": "code",
   "execution_count": 1,
   "id": "automatic-female",
   "metadata": {},
   "outputs": [],
   "source": [
    "import math\n",
    "import matplotlib.pyplot as plt"
   ]
  },
  {
   "cell_type": "code",
   "execution_count": 2,
   "id": "desperate-essay",
   "metadata": {},
   "outputs": [],
   "source": [
    "# Linear Model\n",
    "def lm (X,Y):\n",
    "    # Calculating Mean\n",
    "    Xmean = sum(X) / len(X)\n",
    "    Ymean = sum(Y) / len(Y)\n",
    "    \n",
    "    # Calculating Variance\n",
    "    Xvar = sum([(i-Xmean)**2 for i in X])\n",
    "    Yvar = sum([(i-Ymean)**2 for i in Y])\n",
    "    \n",
    "    # Calculate Covariance\n",
    "    cov = 0.0\n",
    "    for i,j in zip(X,Y): cov += (i-Xmean)*(j-Ymean)\n",
    "    \n",
    "    a = cov / Xvar\n",
    "    b = Ymean - a * Xmean\n",
    "    \n",
    "    return (a, b)\n",
    "\n",
    "# Predict function for Linear Model\n",
    "def predLM(a,b, xval):\n",
    "    return a*xval+b"
   ]
  },
  {
   "cell_type": "code",
   "execution_count": 3,
   "id": "abandoned-thomson",
   "metadata": {},
   "outputs": [],
   "source": [
    "# correlation coefficient\n",
    "# combinedVariance(x,y) / (sd(x) * sd(y))\n",
    "def corrCoef(x,y):\n",
    "    meanX = sum(x) / len(x)\n",
    "    meanY = sum(y) / len(y)\n",
    "    \n",
    "    # Covariance\n",
    "    cov = 0.0\n",
    "    for i,j in zip(x,y): cov += (i-meanX)*(j-meanY)\n",
    "    \n",
    "    # Standard Deviation X\n",
    "    sdX = math.sqrt( sum([(i-meanX)**2 for i in x]) )    \n",
    "    # Standard Deviation Y\n",
    "    sdY = math.sqrt( sum([(i-meanY)**2 for i in y]) )\n",
    "    \n",
    "    return cov / (sdX*sdY)\n",
    "\n",
    "# R SQUARE, takes 1 argument as correlation coefficient of x and y\n",
    "rSqr = lambda c : (c**2) * 100"
   ]
  },
  {
   "cell_type": "code",
   "execution_count": 4,
   "id": "greatest-sustainability",
   "metadata": {},
   "outputs": [],
   "source": [
    "# Sum of Squared Errors\n",
    "def sse(a,b,x,y):\n",
    "    predictions = [predLM(a,b,i) for i in x]\n",
    "    error = [i-j for i,j in zip(y,predictions)]\n",
    "    return sum([i**2 for i in error])"
   ]
  },
  {
   "cell_type": "code",
   "execution_count": 5,
   "id": "selective-speed",
   "metadata": {},
   "outputs": [],
   "source": [
    "# Dataset\n",
    "x = [ 2,  3,  4,  6,  9, 13, 18]\n",
    "y = [ 3,  6,  5,  8, 13, 15, 19]"
   ]
  },
  {
   "cell_type": "code",
   "execution_count": 6,
   "id": "incorporated-election",
   "metadata": {},
   "outputs": [
    {
     "data": {
      "image/png": "[encoded data removed]",
      "text/plain": [
       "<Figure size 432x288 with 1 Axes>"
      ]
     },
     "metadata": {
      "needs_background": "light"
     },
     "output_type": "display_data"
    }
   ],
   "source": [
    "# Visulizing Dataset\n",
    "plt.scatter(x,y)\n",
    "plt.show()"
   ]
  },
  {
   "cell_type": "code",
   "execution_count": 7,
   "id": "dutch-stroke",
   "metadata": {},
   "outputs": [
    {
     "name": "stdout",
     "output_type": "stream",
     "text": [
      "a = 0.9854972375690608 \n",
      "b = 2.113950276243094\n",
      "Correlation Coefficient = 0.9807673640790555\n",
      "R-Square = 96.19046224425787\n",
      "SSE = 7.956491712707178\n"
     ]
    }
   ],
   "source": [
    "# Calculating a and b\n",
    "a,b = lm(x,y)\n",
    "\n",
    "# Calculatinf Correlation Coefficient\n",
    "cc = corrCoef(x,y)\n",
    "\n",
    "# calculating R-SQUARE\n",
    "rs = rSqr(cc)\n",
    "\n",
    "print(f\"a = {a} \\nb = {b}\")\n",
    "print(f\"Correlation Coefficient = {cc}\")\n",
    "print(f\"R-Square = {rs}\")\n",
    "print(f\"SSE = {sse(a,b,x,y)}\")"
   ]
  },
  {
   "cell_type": "code",
   "execution_count": 8,
   "id": "medical-afternoon",
   "metadata": {},
   "outputs": [
    {
     "data": {
      "image/png": "[encoded data removed]",
      "text/plain": [
       "<Figure size 432x288 with 1 Axes>"
      ]
     },
     "metadata": {
      "needs_background": "light"
     },
     "output_type": "display_data"
    }
   ],
   "source": [
    "# Plotting Regression Line\n",
    "x1, y1 = -1, predLM(a,b, -1)\n",
    "x2, y2 = 20, predLM(a,b, 20)\n",
    "plt.plot([x1, x2], [y1, y2], x, y, \"o\")\n",
    "plt.show()"
   ]
  },
  {
   "cell_type": "code",
   "execution_count": null,
   "id": "medieval-showcase",
   "metadata": {},
   "outputs": [],
   "source": []
  }
 ],
 "metadata": {
  "kernelspec": {
   "display_name": "Python 3",
   "language": "python",
   "name": "python3"
  },
  "language_info": {
   "codemirror_mode": {
    "name": "ipython",
    "version": 3
   },
   "file_extension": ".py",
   "mimetype": "text/x-python",
   "name": "python",
   "nbconvert_exporter": "python",
   "pygments_lexer": "ipython3",
   "version": "3.8.5"
  }
 },
 "nbformat": 4,
 "nbformat_minor": 5
}
